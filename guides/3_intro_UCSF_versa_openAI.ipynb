{
 "cells": [
  {
   "cell_type": "code",
   "execution_count": 4,
   "metadata": {},
   "outputs": [],
   "source": [
    "from langchain.chains.conversation.memory import ConversationBufferMemory\n",
    "from langchain.chat_models import ChatOpenAI\n",
    "from langchain.chains import ConversationChain\n",
    "import os\n",
    "from dotenv import load_dotenv, find_dotenv\n",
    "import openai"
   ]
  },
  {
   "cell_type": "markdown",
   "metadata": {},
   "source": [
    "# ChatGPT/ Large Language Models (LLM)/ Artificial Intelligence (AI)\n",
    "\n",
    "## Versa\n",
    "- *UCSF Versa* – a UCSF IT-supported Artificial Intelligence (AI) ecosystem that connects AI tools with UCSF data and systems.\n",
    "\n",
    "### For initial applications:\n",
    "\n",
    "If you, as an investigator, anticipate analyzing data on the Versa platform for your approved protocols, we encourage you to inform us. This will help us gauge the extent of Versa platform usage within our research community. There is no requirement to submit a modification specifically for this purpose. If your study is approved to collect and analyze Electronic Health Record (EHR) data and you subsequently decide to leverage Versa for additional analyses, no further modification submission is necessary.\n"
   ]
  },
  {
   "cell_type": "code",
   "execution_count": 5,
   "metadata": {},
   "outputs": [],
   "source": [
    "# Set up the UCSF Azure Openai API\n",
    "_ = load_dotenv(find_dotenv())  \n",
    "# Adjust environment variable names as needed\n",
    "API_KEY = os.environ['API_KEY']\n",
    "API_VERSION = os.environ['API_VERSION']\n",
    "RESOURCE_ENDPOINT = os.environ['RESOURCE_ENDPOINT']\n",
    "openai.api_type = \"azure\"\n",
    "openai.api_version = API_VERSION  # This can be overwritten with an incorrect default if not specified with some langchain objects\n",
    "openai.log = \"\" "
   ]
  },
  {
   "cell_type": "code",
   "execution_count": 6,
   "metadata": {},
   "outputs": [
    {
     "name": "stderr",
     "output_type": "stream",
     "text": [
      "WARNING! deployment_id is not default parameter.\n",
      "                    deployment_id was transferred to model_kwargs.\n",
      "                    Please confirm that deployment_id is what you intended.\n"
     ]
    }
   ],
   "source": [
    "# Define the model\n",
    "llm = ChatOpenAI(model='gpt-4-32k',\n",
    "            deployment_id = 'gpt-4-32k',\n",
    "            temperature = 0,  \n",
    "            openai_api_key=API_KEY,\n",
    "            openai_api_base=RESOURCE_ENDPOINT,\n",
    "            max_tokens=20000,  # Optional in API docs, but is required. Limits the number of tokens in response          \n",
    "            )\n",
    "# Define the memory and the conversation chain\n",
    "memory = ConversationBufferMemory()\n",
    "conversation = ConversationChain(llm=llm, memory=memory, verbose=True)"
   ]
  },
  {
   "cell_type": "code",
   "execution_count": 7,
   "metadata": {},
   "outputs": [],
   "source": [
    "# Load the research visit summary\n",
    "with open('rvs.txt', 'r') as f:\n",
    "    rvs = f.read()"
   ]
  },
  {
   "cell_type": "code",
   "execution_count": 8,
   "metadata": {},
   "outputs": [
    {
     "name": "stdout",
     "output_type": "stream",
     "text": [
      "\n",
      "\n",
      "\u001b[1m> Entering new ConversationChain chain...\u001b[0m\n",
      "Prompt after formatting:\n",
      "\u001b[32;1m\u001b[1;3mThe following is a friendly conversation between a human and an AI. The AI is talkative and provides lots of specific details from its context. If the AI does not know the answer to a question, it truthfully says it does not know.\n",
      "\n",
      "Current conversation:\n",
      "\n",
      "Human: You are a pediatric neuropsychologist. Given the following neuroexam (Research Visit Summary\n",
      "\n",
      "Date of Visit: January 17, 2024\n",
      "\n",
      "Child's Name: Alex Johnson\n",
      "\n",
      "Purpose of Visit: To assess reading and cognitive abilities as part of a developmental study.\n",
      "\n",
      "Family and Clinical History:\n",
      "\n",
      "Family history reveals no significant learning disabilities or reading difficulties in immediate family members.\n",
      "Alex's developmental milestones were achieved within normal ranges, with no notable delays in speech or motor skills.\n",
      "No history of neurological disorders or significant health issues.\n",
      "Previous assessments in earlier school years indicated some struggles with letter recognition and phonetic decoding.\n",
      "Observations:\n",
      "\n",
      "Alex, aged 9, exhibited challenges in word recognition and decoding, often seen in children with reading difficulties.\n",
      "Demonstrated strong verbal skills and was articulate in expressing thoughts and ideas.\n",
      "Faced significant challenges with reading aloud, showing hesitation and inconsistency in word pronunciation.\n",
      "Reading pace was noticeably slower than peers, marked by frequent pauses and misinterpretations of words.\n",
      "Assessment Results:\n",
      "\n",
      "Standardized reading tests revealed a substantial gap between Alex's reading abilities and typical age-level benchmarks.\n",
      "Phonemic awareness assessments highlighted difficulties in recognizing and manipulating sounds in spoken words.\n",
      "Alex showed a preference for oral over written instructions and responded positively to auditory learning methods.\n",
      "Recommendations:\n",
      "\n",
      "Recommendation for further assessment by a specialist in reading and language development.\n",
      "Suggested incorporation of multi-sensory learning techniques tailored to Alex's educational needs.\n",
      "Regular monitoring of reading progress with adaptive teaching strategies to support his unique learning style.), please extract and summarize the most relevant information about the patient. Next, provide a speculative neurodevelopental disorder diagnosis based on this exam.\n",
      "AI:\u001b[0m\n"
     ]
    },
    {
     "name": "stderr",
     "output_type": "stream",
     "text": [
      "Retrying langchain.chat_models.openai.ChatOpenAI.completion_with_retry.<locals>._completion_with_retry in 4.0 seconds as it raised RateLimitError: Rate limit is exceeded. Try again in 36 seconds..\n"
     ]
    },
    {
     "name": "stdout",
     "output_type": "stream",
     "text": [
      "\n",
      "\u001b[1m> Finished chain.\u001b[0m\n",
      "Human: You are a pediatric neuropsychologist. Given the following neuroexam (Research Visit Summary\n",
      "\n",
      "Date of Visit: January 17, 2024\n",
      "\n",
      "Child's Name: Alex Johnson\n",
      "\n",
      "Purpose of Visit: To assess reading and cognitive abilities as part of a developmental study.\n",
      "\n",
      "Family and Clinical History:\n",
      "\n",
      "Family history reveals no significant learning disabilities or reading difficulties in immediate family members.\n",
      "Alex's developmental milestones were achieved within normal ranges, with no notable delays in speech or motor skills.\n",
      "No history of neurological disorders or significant health issues.\n",
      "Previous assessments in earlier school years indicated some struggles with letter recognition and phonetic decoding.\n",
      "Observations:\n",
      "\n",
      "Alex, aged 9, exhibited challenges in word recognition and decoding, often seen in children with reading difficulties.\n",
      "Demonstrated strong verbal skills and was articulate in expressing thoughts and ideas.\n",
      "Faced significant challenges with reading aloud, showing hesitation and inconsistency in word pronunciation.\n",
      "Reading pace was noticeably slower than peers, marked by frequent pauses and misinterpretations of words.\n",
      "Assessment Results:\n",
      "\n",
      "Standardized reading tests revealed a substantial gap between Alex's reading abilities and typical age-level benchmarks.\n",
      "Phonemic awareness assessments highlighted difficulties in recognizing and manipulating sounds in spoken words.\n",
      "Alex showed a preference for oral over written instructions and responded positively to auditory learning methods.\n",
      "Recommendations:\n",
      "\n",
      "Recommendation for further assessment by a specialist in reading and language development.\n",
      "Suggested incorporation of multi-sensory learning techniques tailored to Alex's educational needs.\n",
      "Regular monitoring of reading progress with adaptive teaching strategies to support his unique learning style.), please extract and summarize the most relevant information about the patient. Next, provide a speculative neurodevelopental disorder diagnosis based on this exam.\n",
      "AI: Based on the provided neuroexam, the child, Alex Johnson, is a 9-year-old with no significant family history of learning disabilities or reading difficulties. His developmental milestones were achieved within normal ranges, and there is no history of neurological disorders or significant health issues. However, Alex has been struggling with letter recognition and phonetic decoding since his early school years. During the visit, he exhibited challenges in word recognition and decoding, which are often seen in children with reading difficulties. He also demonstrated strong verbal skills and was articulate in expressing thoughts and ideas. However, he faced significant challenges with reading aloud, showing hesitation and inconsistency in word pronunciation. His reading pace was slower than his peers, marked by frequent pauses and misinterpretations of words. Standardized reading tests revealed a substantial gap between Alex's reading abilities and typical age-level benchmarks. Phonemic awareness assessments highlighted difficulties in recognizing and manipulating sounds in spoken words. Alex showed a preference for oral over written instructions and responded positively to auditory learning methods.\n",
      "\n",
      "Based on these observations and assessments, it is possible that Alex may have Dyslexia, a neurodevelopmental disorder that primarily affects reading and related language-based processing skills. The severity of dyslexia can differ in each person. The primary difficulties of dyslexia are phonological decoding, reading fluency, and spelling. Dyslexics are often more successful in learning when multi-sensory learning techniques are used, which aligns with Alex's positive response to auditory learning methods. However, a definitive diagnosis would require further assessment by a specialist in reading and language development.\n"
     ]
    }
   ],
   "source": [
    "prompt = f\"You are a pediatric neuropsychologist. Given the following neuroexam ({rvs}), please extract and summarize the most relevant information about the patient. Next, provide a speculative neurodevelopental disorder diagnosis based on this exam.\"\n",
    "conversation.predict(input=prompt)\n",
    "print(conversation.memory.buffer)"
   ]
  },
  {
   "cell_type": "code",
   "execution_count": null,
   "metadata": {},
   "outputs": [],
   "source": []
  }
 ],
 "metadata": {
  "kernelspec": {
   "display_name": "base",
   "language": "python",
   "name": "python3"
  },
  "language_info": {
   "codemirror_mode": {
    "name": "ipython",
    "version": 3
   },
   "file_extension": ".py",
   "mimetype": "text/x-python",
   "name": "python",
   "nbconvert_exporter": "python",
   "pygments_lexer": "ipython3",
   "version": "3.9.12"
  }
 },
 "nbformat": 4,
 "nbformat_minor": 2
}
