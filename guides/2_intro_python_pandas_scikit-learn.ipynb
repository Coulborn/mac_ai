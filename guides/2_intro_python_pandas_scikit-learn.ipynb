{
 "cells": [
  {
   "cell_type": "markdown",
   "metadata": {},
   "source": [
    "# Introduction to Python Basics\n",
    "\n",
    "In this section, we will cover some fundamental concepts of Python programming. These basics are essential for any programming task in Python, including data science and machine learning.\n",
    "\n",
    "## Variables\n",
    "\n",
    "Variables are used to store data values. In Python, a variable is created the moment you first assign a value to it.\n",
    "\n",
    "## Indexing\n",
    "\n",
    "Indexing is used to access elements of a sequence, like a string or a list. In Python, indexing starts at 0.\n",
    "\n",
    "## Loops\n",
    "\n",
    "Loops are used for iterating over a sequence (such as a list, tuple, dictionary, set, or string).\n",
    "\n",
    "- The `for` loop is used for iterating over a sequence.\n",
    "- The `while` loop is used to execute a set of statements as long as a condition is true.\n",
    "\n",
    "## If Statements\n",
    "\n",
    "The `if` statement is used to test a specific condition. If the condition is true, a block of code will be executed.\n",
    "\n",
    "## Functions\n",
    "\n",
    "Functions are blocks of code which only run when they are called. They can receive data as parameters and can return data as a result."
   ]
  },
  {
   "cell_type": "code",
   "execution_count": 3,
   "metadata": {},
   "outputs": [
    {
     "name": "stdout",
     "output_type": "stream",
     "text": [
      "Hello, World!\n"
     ]
    }
   ],
   "source": [
    "# Creating variables\n",
    "x = 5\n",
    "y = \"Hello, World!\"\n",
    "print(y)"
   ]
  },
  {
   "cell_type": "code",
   "execution_count": 2,
   "metadata": {},
   "outputs": [
    {
     "name": "stdout",
     "output_type": "stream",
     "text": [
      "10\n",
      "50\n"
     ]
    }
   ],
   "source": [
    "# Accessing elements using indexing\n",
    "my_list = [10, 20, 30, 40, 50]\n",
    "print(my_list[0])  # Accessing the first element\n",
    "print(my_list[-1]) # Accessing the last element"
   ]
  },
  {
   "cell_type": "code",
   "execution_count": 3,
   "metadata": {},
   "outputs": [
    {
     "name": "stdout",
     "output_type": "stream",
     "text": [
      "apple\n",
      "banana\n",
      "cherry\n"
     ]
    }
   ],
   "source": [
    "# Iterating with a for loop\n",
    "fruits = [\"apple\", \"banana\", \"cherry\"]\n",
    "for fruit in fruits:\n",
    "    print(fruit)"
   ]
  },
  {
   "cell_type": "code",
   "execution_count": 2,
   "metadata": {},
   "outputs": [
    {
     "name": "stdout",
     "output_type": "stream",
     "text": [
      "1\n",
      "2\n",
      "3\n",
      "4\n",
      "5\n"
     ]
    }
   ],
   "source": [
    "# Using a while loop\n",
    "i = 1\n",
    "while i < 6:\n",
    "    print(i)\n",
    "    i += 1"
   ]
  },
  {
   "cell_type": "code",
   "execution_count": 5,
   "metadata": {},
   "outputs": [
    {
     "name": "stdout",
     "output_type": "stream",
     "text": [
      "b is greater than a\n"
     ]
    }
   ],
   "source": [
    "# Using an if statement\n",
    "a = 33\n",
    "b = 200\n",
    "if b > a:\n",
    "    print(\"b is greater than a\")"
   ]
  },
  {
   "cell_type": "code",
   "execution_count": 5,
   "metadata": {},
   "outputs": [
    {
     "name": "stdout",
     "output_type": "stream",
     "text": [
      "Hello, Alice!\n"
     ]
    }
   ],
   "source": [
    "# Defining and calling a function\n",
    "def greet(name):\n",
    "    return \"Hello, \" + name + \"!\"\n",
    "\n",
    "print(greet(\"Alice\"))"
   ]
  },
  {
   "cell_type": "markdown",
   "metadata": {},
   "source": [
    "# Introduction to Pandas\n",
    "\n",
    "Pandas is a fast, powerful, flexible, and easy-to-use open-source data analysis and manipulation tool built on top of the Python programming language. In this section, we'll learn some basic functionalities of Pandas, including how to create, load, and manipulate data in DataFrames.\n",
    "\n",
    "## What is a DataFrame?\n",
    "\n",
    "A DataFrame is a two-dimensional, size-mutable, and potentially heterogeneous tabular data structure with labeled axes (rows and columns). It's similar to a spreadsheet or SQL table.\n",
    "\n",
    "## Creating a DataFrame\n",
    "\n",
    "DataFrames can be created from various sources - like lists, dictionaries, or external data files.\n",
    "\n",
    "## Loading Data into a DataFrame\n",
    "\n",
    "Pandas can load data from a variety of file formats, including CSV, Excel, and SQL databases.\n",
    "\n",
    "## Basic Data Manipulation\n",
    "\n",
    "Once data is loaded into a DataFrame, you can perform several operations like selecting specific rows or columns, filtering data based on conditions, and aggregating data."
   ]
  },
  {
   "cell_type": "code",
   "execution_count": 7,
   "metadata": {},
   "outputs": [
    {
     "name": "stdout",
     "output_type": "stream",
     "text": [
      "    Name  Age\n",
      "0    Tom   20\n",
      "1   Nick   21\n",
      "2  Sarah   19\n",
      "3  Emily   18\n"
     ]
    }
   ],
   "source": [
    "import pandas as pd\n",
    "\n",
    "# Creating a DataFrame from a dictionary\n",
    "data = {'Name': ['Tom', 'Nick', 'Sarah', 'Emily'],\n",
    "        'Age': [20, 21, 19, 18]}\n",
    "df = pd.DataFrame(data)\n",
    "print(df)\n",
    "# Save DataFrame to csv\n",
    "df.to_csv('my_csv.csv', index=False)"
   ]
  },
  {
   "cell_type": "code",
   "execution_count": 6,
   "metadata": {},
   "outputs": [
    {
     "ename": "NameError",
     "evalue": "name 'pd' is not defined",
     "output_type": "error",
     "traceback": [
      "\u001b[0;31m---------------------------------------------------------------------------\u001b[0m",
      "\u001b[0;31mNameError\u001b[0m                                 Traceback (most recent call last)",
      "\u001b[0;32m<ipython-input-6-969ba2270d6f>\u001b[0m in \u001b[0;36m<module>\u001b[0;34m\u001b[0m\n\u001b[1;32m      1\u001b[0m \u001b[0;31m# Loading data from a CSV file\u001b[0m\u001b[0;34m\u001b[0m\u001b[0;34m\u001b[0m\u001b[0;34m\u001b[0m\u001b[0m\n\u001b[1;32m      2\u001b[0m \u001b[0;31m# Make sure to have a CSV file available in your environment\u001b[0m\u001b[0;34m\u001b[0m\u001b[0;34m\u001b[0m\u001b[0;34m\u001b[0m\u001b[0m\n\u001b[0;32m----> 3\u001b[0;31m \u001b[0mdf_from_csv\u001b[0m \u001b[0;34m=\u001b[0m \u001b[0mpd\u001b[0m\u001b[0;34m.\u001b[0m\u001b[0mread_csv\u001b[0m\u001b[0;34m(\u001b[0m\u001b[0;34m'my_csv.csv'\u001b[0m\u001b[0;34m)\u001b[0m\u001b[0;34m\u001b[0m\u001b[0;34m\u001b[0m\u001b[0m\n\u001b[0m\u001b[1;32m      4\u001b[0m \u001b[0mprint\u001b[0m\u001b[0;34m(\u001b[0m\u001b[0mdf_from_csv\u001b[0m\u001b[0;34m.\u001b[0m\u001b[0mhead\u001b[0m\u001b[0;34m(\u001b[0m\u001b[0;34m)\u001b[0m\u001b[0;34m)\u001b[0m  \u001b[0;31m# Displaying the first 5 rows\u001b[0m\u001b[0;34m\u001b[0m\u001b[0;34m\u001b[0m\u001b[0m\n",
      "\u001b[0;31mNameError\u001b[0m: name 'pd' is not defined"
     ]
    }
   ],
   "source": [
    "# Loading data from a CSV file\n",
    "# Make sure to have a CSV file available in your environment\n",
    "df_from_csv = pd.read_csv('my_csv.csv')\n",
    "print(df_from_csv.head())  # Displaying the first 5 rows"
   ]
  },
  {
   "cell_type": "code",
   "execution_count": 9,
   "metadata": {},
   "outputs": [
    {
     "name": "stdout",
     "output_type": "stream",
     "text": [
      "0    20\n",
      "1    21\n",
      "2    19\n",
      "3    18\n",
      "Name: Age, dtype: int64\n"
     ]
    }
   ],
   "source": [
    "# Selecting a single column\n",
    "ages = df['Age']\n",
    "print(ages)"
   ]
  },
  {
   "cell_type": "code",
   "execution_count": 10,
   "metadata": {},
   "outputs": [
    {
     "name": "stdout",
     "output_type": "stream",
     "text": [
      "    Name  Age\n",
      "0    Tom   20\n",
      "2  Sarah   19\n",
      "3  Emily   18\n"
     ]
    }
   ],
   "source": [
    "# Filtering data\n",
    "young_adults = df[df['Age'] < 21]\n",
    "print(young_adults)"
   ]
  },
  {
   "cell_type": "code",
   "execution_count": 11,
   "metadata": {},
   "outputs": [
    {
     "name": "stdout",
     "output_type": "stream",
     "text": [
      "    Name  Age  Graduated\n",
      "0    Tom   20      False\n",
      "1   Nick   21       True\n",
      "2  Sarah   19      False\n",
      "3  Emily   18       True\n"
     ]
    }
   ],
   "source": [
    "# Adding a new column\n",
    "df['Graduated'] = [False, True, False, True]\n",
    "print(df)"
   ]
  },
  {
   "cell_type": "code",
   "execution_count": 12,
   "metadata": {},
   "outputs": [
    {
     "name": "stdout",
     "output_type": "stream",
     "text": [
      "            Age\n",
      "Graduated      \n",
      "False      19.5\n",
      "True       19.5\n"
     ]
    }
   ],
   "source": [
    "# Example: Grouping by a column and aggregating with mean\n",
    "df_grouped = df.groupby('Graduated').mean()\n",
    "print(df_grouped)"
   ]
  },
  {
   "cell_type": "markdown",
   "metadata": {},
   "source": [
    "# Introduction to Scikit-learn\n",
    "\n",
    "Scikit-learn is a powerful Python library for machine learning. It provides simple and efficient tools for data analysis and modeling, including classification, regression, clustering, and dimensionality reduction, among others. In this section, we'll cover some basics of scikit-learn, including data pre-processing, creating a model, training it, and making predictions.\n",
    "\n",
    "## Loading the Dataset\n",
    "\n",
    "Scikit-learn comes with a few standard datasets, for instance, the iris and digits datasets for classification and the diabetes dataset for regression.\n",
    "\n",
    "## Creating a Machine Learning Model\n",
    "\n",
    "Scikit-learn makes it easy to create various machine learning models. A model is an object that is fit on training data and is then used to make predictions.\n",
    "\n",
    "## Training the Model\n",
    "\n",
    "Training the model involves providing the model with data, and letting it learn the relationships between the data and the outcomes.\n",
    "\n",
    "## Making Predictions\n",
    "\n",
    "Once the model is trained, you can use it to make predictions on new or unseen data.\n",
    "\n",
    "## Evaluating the Model\n",
    "\n",
    "It's important to evaluate the performance of your model. Scikit-learn provides several methods to do this, such as accuracy score, confusion matrix, etc."
   ]
  },
  {
   "cell_type": "markdown",
   "metadata": {},
   "source": [
    "# Comprehensive Overview of the Wine Dataset\n",
    "\n",
    "The Wine dataset, a classic in machine learning, is used for demonstrating multiclass classification. It includes detailed chemical analyses of wines grown in the same region in Italy but derived from three different cultivars. \n",
    "\n",
    "## Dataset Features\n",
    "\n",
    "The dataset consists of 178 wine samples, each with 13 features measured in different scales:\n",
    "\n",
    "1. **Alcohol (% by volume)**: Alcohol content in the wine.\n",
    "2. **Malic Acid (g/l)**: Concentration of malic acid, affecting the taste.\n",
    "3. **Ash (g/l)**: Amount of ash, impacting the wine's mineral content.\n",
    "4. **Alcalinity of Ash (mg/l)**: Measure of how basic the ash is.\n",
    "5. **Magnesium (mg/l)**: Magnesium content in the wine.\n",
    "6. **Total Phenols (mg/l)**: Total amount of phenol compounds.\n",
    "7. **Flavanoids (mg/l)**: A type of phenol, significant for taste.\n",
    "8. **Nonflavanoid Phenols (mg/l)**: Phenols that are not flavanoids.\n",
    "9. **Proanthocyanins (mg/l)**: A type of polyphenol.\n",
    "10. **Color Intensity**: The intensity of the wine's color.\n",
    "11. **Hue**: The color's tone or tint in the wine.\n",
    "12. **OD280/OD315 of Diluted Wines**: Measurement of wine protein concentration.\n",
    "13. **Proline (mg/l)**: An amino acid important to protein synthesis.\n",
    "\n",
    "## Target Variable: Wine Cultivars\n",
    "\n",
    "The target variable for classification is the type of wine cultivar, categorized into three classes:\n",
    "\n",
    "1. **Class 0**: Wines made from `Cultivar 1`. \n",
    "2. **Class 1**: Wines made from `Cultivar 2`. \n",
    "3. **Class 2**: Wines made from `Cultivar 3`. \n",
    "\n",
    "## Problem Statement\n",
    "\n",
    "Our goal is to build a model that can predict the cultivar class of a wine sample based on its chemical properties. This is a multiclass classification problem, where the input features are the various chemical measurements, and the output is one of the three wine cultivar classes.\n",
    "\n",
    "## Analytical Approach\n",
    "\n",
    "1. **Data Exploration:** Load the dataset and explore its features and target classes.\n",
    "2. **Model Selection:** Choose a classification model, such as a Random Forest Classifier, suitable for this type of problem.\n",
    "3. **Training:** Train the model using a subset of the data.\n",
    "4. **Evaluation:** Test the model's performance on unseen data and evaluate using metrics like accuracy.\n",
    "5. **Prediction:** Employ the model to predict the cultivar class of new wine samples.\n"
   ]
  },
  {
   "cell_type": "code",
   "execution_count": 4,
   "metadata": {},
   "outputs": [
    {
     "name": "stdout",
     "output_type": "stream",
     "text": [
      "Feature names: ['alcohol', 'malic_acid', 'ash', 'alcalinity_of_ash', 'magnesium', 'total_phenols', 'flavanoids', 'nonflavanoid_phenols', 'proanthocyanins', 'color_intensity', 'hue', 'od280/od315_of_diluted_wines', 'proline']\n",
      "First five rows of dataset:\n",
      " [[1.423e+01 1.710e+00 2.430e+00 1.560e+01 1.270e+02 2.800e+00 3.060e+00\n",
      "  2.800e-01 2.290e+00 5.640e+00 1.040e+00 3.920e+00 1.065e+03]\n",
      " [1.320e+01 1.780e+00 2.140e+00 1.120e+01 1.000e+02 2.650e+00 2.760e+00\n",
      "  2.600e-01 1.280e+00 4.380e+00 1.050e+00 3.400e+00 1.050e+03]\n",
      " [1.316e+01 2.360e+00 2.670e+00 1.860e+01 1.010e+02 2.800e+00 3.240e+00\n",
      "  3.000e-01 2.810e+00 5.680e+00 1.030e+00 3.170e+00 1.185e+03]\n",
      " [1.437e+01 1.950e+00 2.500e+00 1.680e+01 1.130e+02 3.850e+00 3.490e+00\n",
      "  2.400e-01 2.180e+00 7.800e+00 8.600e-01 3.450e+00 1.480e+03]\n",
      " [1.324e+01 2.590e+00 2.870e+00 2.100e+01 1.180e+02 2.800e+00 2.690e+00\n",
      "  3.900e-01 1.820e+00 4.320e+00 1.040e+00 2.930e+00 7.350e+02]]\n",
      "Target names (Wine Cultivars): ['class_0' 'class_1' 'class_2']\n"
     ]
    }
   ],
   "source": [
    "from sklearn.datasets import load_wine\n",
    "\n",
    "# Load the wine dataset\n",
    "wine = load_wine()\n",
    "X, y = wine.data, wine.target\n",
    "\n",
    "# Exploring the dataset structure\n",
    "print(\"Feature names:\", wine.feature_names)\n",
    "print(\"First five rows of dataset:\\n\", X[:5])\n",
    "print(\"Target names (Wine Cultivars):\", wine.target_names)"
   ]
  },
  {
   "cell_type": "code",
   "execution_count": 21,
   "metadata": {},
   "outputs": [],
   "source": [
    "from sklearn.ensemble import RandomForestClassifier\n",
    "\n",
    "# Initialize a Random Forest Classifier\n",
    "model = RandomForestClassifier()\n"
   ]
  },
  {
   "cell_type": "code",
   "execution_count": 25,
   "metadata": {},
   "outputs": [
    {
     "data": {
      "text/html": [
       "<style>#sk-container-id-3 {color: black;}#sk-container-id-3 pre{padding: 0;}#sk-container-id-3 div.sk-toggleable {background-color: white;}#sk-container-id-3 label.sk-toggleable__label {cursor: pointer;display: block;width: 100%;margin-bottom: 0;padding: 0.3em;box-sizing: border-box;text-align: center;}#sk-container-id-3 label.sk-toggleable__label-arrow:before {content: \"▸\";float: left;margin-right: 0.25em;color: #696969;}#sk-container-id-3 label.sk-toggleable__label-arrow:hover:before {color: black;}#sk-container-id-3 div.sk-estimator:hover label.sk-toggleable__label-arrow:before {color: black;}#sk-container-id-3 div.sk-toggleable__content {max-height: 0;max-width: 0;overflow: hidden;text-align: left;background-color: #f0f8ff;}#sk-container-id-3 div.sk-toggleable__content pre {margin: 0.2em;color: black;border-radius: 0.25em;background-color: #f0f8ff;}#sk-container-id-3 input.sk-toggleable__control:checked~div.sk-toggleable__content {max-height: 200px;max-width: 100%;overflow: auto;}#sk-container-id-3 input.sk-toggleable__control:checked~label.sk-toggleable__label-arrow:before {content: \"▾\";}#sk-container-id-3 div.sk-estimator input.sk-toggleable__control:checked~label.sk-toggleable__label {background-color: #d4ebff;}#sk-container-id-3 div.sk-label input.sk-toggleable__control:checked~label.sk-toggleable__label {background-color: #d4ebff;}#sk-container-id-3 input.sk-hidden--visually {border: 0;clip: rect(1px 1px 1px 1px);clip: rect(1px, 1px, 1px, 1px);height: 1px;margin: -1px;overflow: hidden;padding: 0;position: absolute;width: 1px;}#sk-container-id-3 div.sk-estimator {font-family: monospace;background-color: #f0f8ff;border: 1px dotted black;border-radius: 0.25em;box-sizing: border-box;margin-bottom: 0.5em;}#sk-container-id-3 div.sk-estimator:hover {background-color: #d4ebff;}#sk-container-id-3 div.sk-parallel-item::after {content: \"\";width: 100%;border-bottom: 1px solid gray;flex-grow: 1;}#sk-container-id-3 div.sk-label:hover label.sk-toggleable__label {background-color: #d4ebff;}#sk-container-id-3 div.sk-serial::before {content: \"\";position: absolute;border-left: 1px solid gray;box-sizing: border-box;top: 0;bottom: 0;left: 50%;z-index: 0;}#sk-container-id-3 div.sk-serial {display: flex;flex-direction: column;align-items: center;background-color: white;padding-right: 0.2em;padding-left: 0.2em;position: relative;}#sk-container-id-3 div.sk-item {position: relative;z-index: 1;}#sk-container-id-3 div.sk-parallel {display: flex;align-items: stretch;justify-content: center;background-color: white;position: relative;}#sk-container-id-3 div.sk-item::before, #sk-container-id-3 div.sk-parallel-item::before {content: \"\";position: absolute;border-left: 1px solid gray;box-sizing: border-box;top: 0;bottom: 0;left: 50%;z-index: -1;}#sk-container-id-3 div.sk-parallel-item {display: flex;flex-direction: column;z-index: 1;position: relative;background-color: white;}#sk-container-id-3 div.sk-parallel-item:first-child::after {align-self: flex-end;width: 50%;}#sk-container-id-3 div.sk-parallel-item:last-child::after {align-self: flex-start;width: 50%;}#sk-container-id-3 div.sk-parallel-item:only-child::after {width: 0;}#sk-container-id-3 div.sk-dashed-wrapped {border: 1px dashed gray;margin: 0 0.4em 0.5em 0.4em;box-sizing: border-box;padding-bottom: 0.4em;background-color: white;}#sk-container-id-3 div.sk-label label {font-family: monospace;font-weight: bold;display: inline-block;line-height: 1.2em;}#sk-container-id-3 div.sk-label-container {text-align: center;}#sk-container-id-3 div.sk-container {/* jupyter's `normalize.less` sets `[hidden] { display: none; }` but bootstrap.min.css set `[hidden] { display: none !important; }` so we also need the `!important` here to be able to override the default hidden behavior on the sphinx rendered scikit-learn.org. See: https://github.com/scikit-learn/scikit-learn/issues/21755 */display: inline-block !important;position: relative;}#sk-container-id-3 div.sk-text-repr-fallback {display: none;}</style><div id=\"sk-container-id-3\" class=\"sk-top-container\"><div class=\"sk-text-repr-fallback\"><pre>RandomForestClassifier()</pre><b>In a Jupyter environment, please rerun this cell to show the HTML representation or trust the notebook. <br />On GitHub, the HTML representation is unable to render, please try loading this page with nbviewer.org.</b></div><div class=\"sk-container\" hidden><div class=\"sk-item\"><div class=\"sk-estimator sk-toggleable\"><input class=\"sk-toggleable__control sk-hidden--visually\" id=\"sk-estimator-id-3\" type=\"checkbox\" checked><label for=\"sk-estimator-id-3\" class=\"sk-toggleable__label sk-toggleable__label-arrow\">RandomForestClassifier</label><div class=\"sk-toggleable__content\"><pre>RandomForestClassifier()</pre></div></div></div></div></div>"
      ],
      "text/plain": [
       "RandomForestClassifier()"
      ]
     },
     "execution_count": 25,
     "metadata": {},
     "output_type": "execute_result"
    }
   ],
   "source": [
    "from sklearn.model_selection import train_test_split\n",
    "\n",
    "# Splitting the dataset into training and testing sets\n",
    "X_train, X_test, y_train, y_test = train_test_split(X, y, test_size=0.3)\n",
    "\n",
    "# Training the model\n",
    "model.fit(X_train, y_train)"
   ]
  },
  {
   "cell_type": "code",
   "execution_count": 26,
   "metadata": {},
   "outputs": [
    {
     "name": "stdout",
     "output_type": "stream",
     "text": [
      "Model Accuracy: 0.96\n"
     ]
    }
   ],
   "source": [
    "from sklearn.metrics import accuracy_score\n",
    "\n",
    "# Predictions on the test set\n",
    "y_pred = model.predict(X_test)\n",
    "\n",
    "# Calculating the accuracy of the model\n",
    "accuracy = accuracy_score(y_test, y_pred)\n",
    "print(f\"Model Accuracy: {accuracy:.2f}\")"
   ]
  },
  {
   "cell_type": "code",
   "execution_count": 24,
   "metadata": {},
   "outputs": [
    {
     "name": "stdout",
     "output_type": "stream",
     "text": [
      "Predicted wine cultivar for the sample: class_0\n"
     ]
    }
   ],
   "source": [
    "# Example: Predicting the wine cultivar for a new sample\n",
    "new_sample = X_test[0].reshape(1, -1)\n",
    "prediction = model.predict(new_sample)\n",
    "predicted_class = wine.target_names[prediction][0]\n",
    "print(f\"Predicted wine cultivar for the sample: {predicted_class}\")\n"
   ]
  },
  {
   "cell_type": "code",
   "execution_count": 27,
   "metadata": {},
   "outputs": [],
   "source": [
    "from sklearn.metrics import confusion_matrix\n",
    "import matplotlib.pyplot as plt\n",
    "import seaborn as sns"
   ]
  },
  {
   "cell_type": "code",
   "execution_count": 28,
   "metadata": {},
   "outputs": [],
   "source": [
    "# Generate the confusion matrix\n",
    "cm = confusion_matrix(y_test, y_pred)"
   ]
  },
  {
   "cell_type": "code",
   "execution_count": 29,
   "metadata": {},
   "outputs": [
    {
     "data": {
      "image/png": "[encoded data removed]",
      "text/plain": [
       "<Figure size 576x432 with 2 Axes>"
      ]
     },
     "metadata": {
      "needs_background": "light"
     },
     "output_type": "display_data"
    }
   ],
   "source": [
    "# Plotting the confusion matrix\n",
    "plt.figure(figsize=(8, 6))\n",
    "sns.heatmap(cm, annot=True, fmt=\"d\", cmap='Blues', xticklabels=wine.target_names, yticklabels=wine.target_names)\n",
    "plt.title(\"Confusion Matrix\")\n",
    "plt.ylabel('True Label')\n",
    "plt.xlabel('Predicted Label')\n",
    "plt.show()"
   ]
  },
  {
   "cell_type": "code",
   "execution_count": 30,
   "metadata": {},
   "outputs": [],
   "source": [
    "from sklearn.feature_selection import RFE\n",
    "import matplotlib.pyplot as plt"
   ]
  },
  {
   "cell_type": "code",
   "execution_count": 31,
   "metadata": {},
   "outputs": [],
   "source": [
    "# Applying RFE with a Random Forest Classifier\n",
    "rfe = RFE(estimator=RandomForestClassifier(), n_features_to_select=1)\n",
    "rfe.fit(X_train, y_train)\n",
    "\n",
    "# Getting the ranking of features\n",
    "ranking = rfe.ranking_"
   ]
  },
  {
   "cell_type": "code",
   "execution_count": 45,
   "metadata": {},
   "outputs": [
    {
     "data": {
      "image/png": "[encoded data removed]",
      "text/plain": [
       "<Figure size 576x432 with 1 Axes>"
      ]
     },
     "metadata": {
      "needs_background": "light"
     },
     "output_type": "display_data"
    }
   ],
   "source": [
    "# Get feature importances from the trained model\n",
    "feature_importances = model.feature_importances_\n",
    "\n",
    "\n",
    "# sort the features by their importance to plot them in order preserving the labels\n",
    "features = [x for _, x in sorted(zip(feature_importances, wine.feature_names))]\n",
    "importances = sorted(feature_importances)\n",
    "\n",
    "# Plotting the feature importances\n",
    "plt.figure(figsize=(8, 6))\n",
    "plt.barh(features, importances)\n",
    "plt.xlabel('Importance')\n",
    "plt.ylabel('Features')\n",
    "plt.title('Feature Importance (Higher Value = More Important, Sorted)')\n",
    "plt.show()"
   ]
  },
  {
   "cell_type": "code",
   "execution_count": null,
   "metadata": {},
   "outputs": [],
   "source": []
  }
 ],
 "metadata": {
  "kernelspec": {
   "display_name": "base",
   "language": "python",
   "name": "python3"
  },
  "language_info": {
   "codemirror_mode": {
    "name": "ipython",
    "version": 3
   },
   "file_extension": ".py",
   "mimetype": "text/x-python",
   "name": "python",
   "nbconvert_exporter": "python",
   "pygments_lexer": "ipython3",
   "version": "3.8.8"
  }
 },
 "nbformat": 4,
 "nbformat_minor": 2
}
